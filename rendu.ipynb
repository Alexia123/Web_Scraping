{
 "cells": [
  {
   "cell_type": "markdown",
   "metadata": {},
   "source": [
    "# Projet Python Avancé - MOSEF"
   ]
  },
  {
   "cell_type": "markdown",
   "metadata": {},
   "source": [
    "### On importe les packages nécessaires dans la suite du code"
   ]
  },
  {
   "cell_type": "code",
   "execution_count": 1,
   "metadata": {},
   "outputs": [],
   "source": [
    "# Import des packages\n",
    "import pandas as pd\n",
    "import requests\n",
    "from lxml import html\n",
    "from unidecode import unidecode\n",
    "from bs4 import BeautifulSoup\n",
    "import urllib\n",
    "import requests'"
   ]
  },
  {
   "cell_type": "markdown",
   "metadata": {},
   "source": [
    "### Etape 1 : Récupération des informations du site pour construire un dataframe"
   ]
  },
  {
   "cell_type": "code",
   "execution_count": 2,
   "metadata": {},
   "outputs": [],
   "source": [
    "url_site = \"\"\"https://www.pimkie.fr/c-toute-la-collection\"\"\""
   ]
  },
  {
   "cell_type": "markdown",
   "metadata": {},
   "source": [
    "Nous avons choisi ce site de vêtements de femmes. Durant cette première partie, nous allons récolter diverses informations comme les catégories, sous-catégories, nombre de produits, prix des produits, etc ... POur cela, nous allons créer diverses fonctions."
   ]
  },
  {
   "cell_type": "markdown",
   "metadata": {},
   "source": [
    "#### 1) Récupération des catégories"
   ]
  },
  {
   "cell_type": "code",
   "execution_count": 3,
   "metadata": {},
   "outputs": [],
   "source": [
    "def recup_categorie(url):\n",
    "    \"\"\"\n",
    "    Cette fonction, appliquée à l'accueil du site, permet de récupérer les grandes catégories des produits vendus.\n",
    "    \"\"\"\n",
    "    # Ouvrir l'URL\n",
    "    soup = BeautifulSoup(urllib.request.urlopen(url))\n",
    "    # Stockage des informations\n",
    "    Categorie = []\n",
    "    Categorie_url = []\n",
    "    Nb_Art_Categorie = []\n",
    "    for a in soup.find_all('li', class_=\"category-element\"): \n",
    "        p = re.compile('title=\"(.[^#<#\\n]+)\"',re.IGNORECASE) # Récupérer les noms des catégories\n",
    "        match = p.findall(str(a))\n",
    "        if (match != [] and match[0] not in Categorie):\n",
    "            Categorie.append(match[0])\n",
    "        p = re.compile('href=\"(.[^#\"#\\n]+)\"',re.IGNORECASE) # Récupérer les url des pages des catégories\n",
    "        match = p.findall(str(a))\n",
    "        if (match != [] and match[0] not in Categorie_url):\n",
    "            Categorie_url.append(match[0])\n",
    "        p = re.compile('[0-9]+',re.IGNORECASE) # Récupérer les nombres\n",
    "        match = p.findall(str(a))\n",
    "        if match != []:\n",
    "            Nb_Art_Categorie.append(int(match[0]))\n",
    "    Nb_Art_Categorie = Nb_Art_Categorie[0:len(Categorie)]\n",
    "    return(Categorie, Categorie_url, Nb_Art_Categorie)"
   ]
  },
  {
   "cell_type": "code",
   "execution_count": 4,
   "metadata": {},
   "outputs": [],
   "source": [
    "# Appel de la fonction\n",
    "Categorie, Categorie_url, Nb_Art_Categorie = recup_categorie(url_site)"
   ]
  },
  {
   "cell_type": "code",
   "execution_count": 5,
   "metadata": {
    "scrolled": true
   },
   "outputs": [
    {
     "name": "stdout",
     "output_type": "stream",
     "text": [
      "['Manteau', 'Veste', 'Pull et gilet', 'Jean', 'Blouse et chemise', 'Pantalon', 'Tshirt et top', 'Robe', 'Jupe', 'Sweat', 'Combinaison', 'body', 'Short', 'Toute la collection']\n",
      "##################################\n",
      "['https://www.pimkie.fr/c-manteau', 'https://www.pimkie.fr/c-veste', 'https://www.pimkie.fr/c-pull-et-gilet', 'https://www.pimkie.fr/c-jean', 'https://www.pimkie.fr/c-blouse-et-chemise', 'https://www.pimkie.fr/c-pantalon', 'https://www.pimkie.fr/c-tshirt-et-top', 'https://www.pimkie.fr/c-robe', 'https://www.pimkie.fr/c-jupe', 'https://www.pimkie.fr/c-sweat', 'https://www.pimkie.fr/c-combinaison', 'https://www.pimkie.fr/c-body', 'https://www.pimkie.fr/c-short', 'https://www.pimkie.fr/c-toute-la-collection']\n",
      "##################################\n",
      "[38, 43, 122, 45, 72, 30, 159, 44, 45, 9, 1, 3, 14, 824]\n"
     ]
    }
   ],
   "source": [
    "# Vérification des résultats\n",
    "print(Categorie)\n",
    "print(\"##################################\")\n",
    "print(Categorie_url)\n",
    "print(\"##################################\")\n",
    "print(Nb_Art_Categorie)"
   ]
  },
  {
   "cell_type": "code",
   "execution_count": 9,
   "metadata": {},
   "outputs": [],
   "source": [
    "# La catégorie \"Toute la collection\" ne sera pas utile dans la suite\n",
    "nb_categorie = len(Categorie)\n",
    "Categorie = Categorie[0:nb_categorie - 1]\n",
    "Categorie_url = Categorie_url[0:nb_categorie - 1]\n",
    "Nb_Art_Categorie = Nb_Art_Categorie[0:nb_categorie - 1]"
   ]
  },
  {
   "cell_type": "markdown",
   "metadata": {},
   "source": [
    "#### 2) Récupération des sous-catégories"
   ]
  },
  {
   "cell_type": "code",
   "execution_count": 32,
   "metadata": {},
   "outputs": [],
   "source": [
    "def recup_sous_categorie(url):\n",
    "    \"\"\"\n",
    "    Cette fonction, appliquée aux pages des catégories, permet de récupérer les sous-catégories des produits vendus.\n",
    "    \"\"\"\n",
    "    # Ouvrir l'URL\n",
    "    soup = BeautifulSoup(urllib.request.urlopen(url))\n",
    "    sous_cat = []\n",
    "    sous_cat_url = []\n",
    "    soup = BeautifulSoup(urllib.request.urlopen(url))\n",
    "    for a in soup.find_all('div',class_=\"product-name\"):\n",
    "        p = re.compile('title=\"(.[^#<#\\n]+)\"',re.IGNORECASE) # Récupérer les noms des sous-catégories\n",
    "        match = p.findall(str(a))\n",
    "        if (match != []):\n",
    "            sous_cat.append(match[0])\n",
    "        p = re.compile('href=\"(.[^#<#\\n]+)\"\\s',re.IGNORECASE) # Récupérer les noms des catégories\n",
    "        match = p.findall(str(a))\n",
    "        if (match != []):\n",
    "            sous_cat_url.append(match[0])\n",
    "    return(sous_cat,sous_cat_url)"
   ]
  },
  {
   "cell_type": "code",
   "execution_count": 33,
   "metadata": {},
   "outputs": [],
   "source": [
    "# Appel de la fonction\n",
    "sous_cat = []\n",
    "sous_cat_url = []\n",
    "for url in Categorie_url:\n",
    "    tmp = []\n",
    "    tmp_url = []\n",
    "    tmp, tmp_url = recup_sous_categorie(url)\n",
    "    sous_cat.append(tmp)\n",
    "    sous_cat_url.append(tmp_url)"
   ]
  },
  {
   "cell_type": "code",
   "execution_count": 34,
   "metadata": {},
   "outputs": [
    {
     "name": "stdout",
     "output_type": "stream",
     "text": [
      "[['Manteau à capuche', 'Manteau à capuche', 'Manteau à capuche', 'Manteau en fausse fourrure', 'Manteau drap de laine', 'Manteau drap de laine', 'Parka chaude', 'Doudoune avec fausse fourrure', 'Parka chaude', 'Manteau long droit', 'Manteau à capuche', 'Doudoune à capuche', 'Manteau à capuche', 'Manteau droit', 'Manteau à capuche', 'Parka longue avec fausse fourrure', 'Manteau drap de laine', 'Manteau droit à ceinture', 'Doudoune avec fausse fourrure', 'Manteau drap de laine', 'Manteau drap de laine', 'Manteau drap de laine', 'Manteau droit', 'Parka chaude', 'Doudoune avec fausse fourrure', 'Manteau drap de laine', 'Doudoune courte', 'Manteau en fausse fourrure', 'Manteau long avec laine', 'Doudoune courte', 'Doudoune avec fausse fourrure', 'Manteau long avec laine', 'Manteau à capuche', 'Doudoune légère', 'Trench suédine', 'Doudoune légère', 'Parka imperméable', 'Doudoune à capuche'], ['Blouson biker simili cuir', 'Veste biker en faux cuir', 'Manteau court en fausse fourrure', 'Manteau court en fausse fourrure', 'Veste style perfecto doublée', 'Veste biker en simili cuir', 'Blazer fin', 'Veste biker métallisée Stéphanie Durant x Pimkie', 'Blouson biker simili cuir', 'Veste style perfecto doublée', 'Blazer fin', 'Blazer fin', 'Blazer en velours', 'Veste en jean', 'Veste en jean large', 'Veste imitation mouton', 'Veste en simili cuir', 'Veste en jean doublée', 'Veste en jean foncé', 'Veste en jean foncé', 'Veste en jean courte', 'Veste en jean doublée', 'Veste en jean', 'Bomber satiné', 'Veste biker', 'Blazer à carreaux', 'Blazer fin', 'Veste en jean doublée', 'Veste suédine', 'Veste suédine', 'Bomber satiné', 'Veste bomber en fausse fourrure', 'Veste en fausse fourrure', 'Veste en jean doublée', 'Blazer à carreaux', 'Veste en velours côtelé', 'Veste courte', 'Veste courte', 'Veste en velours côtelé', 'Veste en tweed', 'Veste biker en faux cuir', 'Veste militaire'], ['Pull fluffy', 'Pull à torsades', 'Pull à torsades', 'Gilet long', 'Robe côtelée longue', 'Gilet court', 'Gilet court', 'Pull fantaisie', 'Robe côtelée longue', 'Gilet long', 'Pull court', 'Gilet à torsades', 'Gilet en maille fantaisie', 'Gilet à torsades', 'Pull en maille côtelée', 'Pull à rayures', 'Gilet mi-long', 'Pull point fantaisie', 'Pull manches bouffantes', 'Pull court', 'Pull fin à col rond', 'Pull fin à col rond', 'Pull fin côtelé', 'Gilet fantaisie', 'Pull large à col V', 'Pull large à col V', 'Pull fantaisie', 'Pull torsadé à manches bouffantes', 'Pull rayé', 'Pull court', 'Pull court', 'Pull à torsades', 'Pull en maille épaisse', 'T-shirt côtelé', 'Pull fantaisie', 'Gilet court', 'Pull en maille fantaisie', 'Pull court', 'Pull large à col V', 'Pull en maille fantaisie', 'Pull bicolore', 'Pull à col roulé'], ['Jean skinny high waist', 'Jean mom high waist', 'Jean push up mid waist', 'Jean skinny high waist', 'Jean skinny taille haute', 'Jean push up mid waist', 'Jean push up mid waist', 'Jean push up mid waist', 'Jegging mid waist', 'Jean push up mid waist', 'Jean taille haute', 'Jean skinny mid waist', 'Jean skinny taille haute', 'Jean mom high waist', 'Jean skinny mid waist', 'Jean skinny high waist', 'Jean skinny mid waist', 'Jean skinny mid waist', 'Jegging mid waist', 'Jean skinny', 'Jegging mid waist', 'Jean skinny push up', 'Jean skinny mid waist', 'Jean skinny à bandes', 'Jean skinny push up', 'Jean skinny high waist délavé', 'Jean skinny high waist', 'Jean skinny biker', 'Jean skinny mid waist', 'Jean skinny mid waist', 'Jean bootcut', 'Jean taille haute', 'Jean skinny high waist', 'Jean skinny high waist', 'Jean skinny high waist délavé', 'Jean skinny high waist', 'Jean skinny high waist', 'Jean skinny high waist délavé', 'Jean skinny mid waist', 'Jean skinny high waist', 'Jean skinny mid waist', 'Jean skinny high waist délavé'], ['Chemisier brodé', 'Chemisier brodé', 'Blouse à plumetis', 'Chemisier à plumetis', 'Chemisier à broderies', 'Chemise boutonnée', 'Blouse à plumetis', 'Blouse à plumetis', 'Chemise transparente', 'Chemise droite', 'Chemisier transparent Stéphanie Durant  x Pimkie', 'Blouse victorienne', 'Chemise carrée', 'Chemise fluide', 'Chemise boutonnée', 'Chemisier à broderies', 'Chemisier à fleurs', 'Chemise carrée', 'Chemise boutonnée', 'Chemise fluide', 'Chemise satinée', 'Blouse à broderies', 'Blouse volantée', 'Chemise fluide', 'Blouse à pois', 'Chemise fluide', 'Chemise à carreaux', 'Blouse à fleurs', 'Chemise cintrée', 'Chemise à motifs', 'Chemisier fleuri', 'Chemise satinée', 'Blouse volantée', 'Chemise carrée', 'Chemise à pois', 'Blouse en plumetis', 'Chemisier à broderies', 'Chemisier transparent', 'Chemise satinée', 'Blouse en plumetis', 'Chemisier brodé', 'Top pailleté issu de la collab Stéphanie Durant x Pimkie'], ['Skinny push up', 'Skinny enduit', 'Skinny push up', 'Pantalon en faux cuir', 'Skinny push up', 'Pantalon skinny camouflage', 'Pantalon en simili cuir', 'Skinny push up', 'Pantalon cargo', 'Skinny push up', 'Skinny push up', 'Pantalon skinny imprimé', 'Pantalon city', 'Pantalon cargo', 'Pantalon cargo skinny', 'Pantalon carotte', 'Pantalon city avec ceinture', 'Fuseau taille haute', 'Skinny push up', 'Pantalon droit à poches', 'Pantalon skinny à poches', 'Pantalon velours', 'Skinny enduit', 'Pantalon city Stéphanie Durant x Pimkie', 'Pantalon à jambes larges', 'Pantalon à jambes larges', 'Pantalon skinny à poches', 'Pantalon city à carreaux', 'Pantalon city à bandes'], ['Top dentelle', 'T-shirt à patch', 'T-shirt côtelé', 'T-shirt côtelé', 'T-shirt côtelé', 'Top dentelle', 'Top dentelle', 'T-shirt en dentelle', 'T-shirt à patch', 'Top à dentelle', 'T-shirt à rayures', 'T-shirt NASA', 'Débardeur rayé', 'Crop top à manches longues', 'T-shirt côtelé', 'Crop top à manches longues', 'T-shirt en dentelle', 'T-shirt à message', 'Débardeur basique', 'Top en dentelle', 'Top à fines bretelles', 'Top à dentelle', 'Sous pull', 'T-shirt en dentelle', 'T-shirt à message', 'T-shirt côtelé', 'T-shirt côtelé', 'Top à dentelle', 'T-shirt en dentelle', 'Débardeur basique', 'T-shirt à message', 'Bandeau uni', 'T-shirt côtelé', 'T-shirt Pink Floyd', 'Crop top à manches longues', 'Top dentelle', 'Top à dentelle', 'T-shirt à message', 'T-shirt à manches courtes', 'Top à fines bretelles', 'T-shirt résille à fleurs', 'T-shirt à fleurs'], ['Robe pull', 'Robe pull col chale', 'Robe pull longue', 'Robe pull', 'Robe pull longue', 'Robe pull', 'Robe à plumetis', 'Robe chemise brodée', 'Robe pull', 'Robe côtelée longue', 'Robe longue à fleurs', 'Robe chemise brodée', 'Robe à col V', 'Robe longue Stéphanie Durant x Pimkie', 'Robe côtelée longue', 'Robe chemise', 'Robe à plumetis', 'Robe évasée', 'Robe pull longue', 'Robe à paillettes', 'Robe pull', 'Robe longue à fleurs', 'Robe en velours', 'Robe à col V', 'Robe portefeuille', 'Robe portefeuille', 'Robe à paillettes', 'Robe asymétrique paillettée', 'Robe longue à fleurs', 'Robe à paillettes', 'Robe à perles', 'Robe satinée', 'Robe côtelée', 'Robe à sequins', 'Robe à sequins', 'Robe à sequins', 'Robe à paillettes', 'Robe pull longue', 'Robe', 'Robe chemise', 'Robe longue fleurie', 'Robe à fleurs'], ['Jupe en simili cuir', 'Jupe longue à fleurs', 'Jupe midi en simili cuir', 'Jupe métallisée Stéphanie Durant x Pimkie', 'Jupe à fleurs', 'Jupe patineuse', 'Jupe avec ceinture à clous', 'Jupe Stéphanie Durant x Pimkie', 'Jupe en faux cuir', 'Jupe midi', 'Jupe midi à poches', 'Jupe plissée', 'Jupe en maille côtelée', 'Jupe à boutons', 'Jupe short à carreaux', 'Jupe en velours', 'Jupe en jean', 'Jupe effet suédine', 'Jupe effet suédine', 'Jupe en jean', 'Jupe midi en simili cuir', 'Jupe midi en simili cuir', 'Jupe en velours', 'Jupe en jean ceinturée', 'Jupe en jean effet usé', 'Jupe midi à fleurs', 'Jupe en simili cuir', 'Jupe en faux cuir', 'Jupe en simil cuir zippée', 'Jupe en faux cuir', 'Jupe en faux cuir', 'Jupe longue à fleurs', 'Jupe en faux cuir', 'Jupe en faux cuir', 'Jupe en faux cuir', 'Jupe en jean et à strass', 'Jupe plissée', 'Jupe à paillettes', 'Jupe en velours', 'Jupe midi en jean', 'Jupe ceinturée', 'Jupe longue boutonnée'], ['Sweat court', 'Sweat Bangor School', 'Sweat court', 'Sweat court', 'Sweat à message', 'Sweat imprimé astro', 'Sweat oversized', 'Sweat imprimé'], ['Combi-pantalon à poches'], ['Body à sequins', 'Body à sequins', 'Body chemisier à fleurs'], ['Short en faux cuir', 'Short avec ceinture', 'Short city', 'Short à paillettes', 'Short suédine', 'Short city taille haute', 'Short mom', 'Short fluide à taille haute', 'Short suédine', 'Short fluide', 'Short en jean', 'Short city', 'Short suédine', 'Short en jean']]\n",
      "##################################\n",
      "[['https://www.pimkie.fr/p/manteau-a-capuche-280217899A08.html', 'https://www.pimkie.fr/p/manteau-a-capuche-280217721A07.html', 'https://www.pimkie.fr/p/manteau-a-capuche-280217830A08.html', 'https://www.pimkie.fr/p/manteau-en-fausse-fourrure-280235783A07.html', 'https://www.pimkie.fr/p/manteau-drap-de-laine-280218B03A06.html', 'https://www.pimkie.fr/p/manteau-drap-de-laine-280218327A03.html', 'https://www.pimkie.fr/p/parka-chaude-280219523A05.html', 'https://www.pimkie.fr/p/doudoune-avec-fausse-fourrure-280216318A03.html', 'https://www.pimkie.fr/p/parka-chaude-280219721A07.html', 'https://www.pimkie.fr/p/manteau-long-droit-280233899A08.html', 'https://www.pimkie.fr/p/manteau-a-capuche-280234B03A06.html', 'https://www.pimkie.fr/p/doudoune-a-capuche-280220342A03.html', 'https://www.pimkie.fr/p/manteau-a-capuche-280234523A05.html', 'https://www.pimkie.fr/p/manteau-droit-280225E16A07.html', 'https://www.pimkie.fr/p/manteau-a-capuche-280234314A03.html', 'https://www.pimkie.fr/p/parka-longue-avec-fausse-fourrure-280176523A05.html', 'https://www.pimkie.fr/p/manteau-drap-de-laine-280221736A07.html', 'https://www.pimkie.fr/p/manteau-droit-a-ceinture-280221721A07.html', 'https://www.pimkie.fr/p/doudoune-avec-fausse-fourrure-280216003A00.html', 'https://www.pimkie.fr/p/manteau-drap-de-laine-280221899A08.html', 'https://www.pimkie.fr/p/manteau-drap-de-laine-280218721A07.html', 'https://www.pimkie.fr/p/manteau-drap-de-laine-280218824A08.html', 'https://www.pimkie.fr/p/manteau-droit-280223E13L0E.html', 'https://www.pimkie.fr/p/parka-chaude-280219899A08.html', 'https://www.pimkie.fr/p/doudoune-avec-fausse-fourrure-280216899A08.html', 'https://www.pimkie.fr/p/manteau-drap-de-laine-280239537A05.html', 'https://www.pimkie.fr/p/doudoune-courte-280243B03A06.html', 'https://www.pimkie.fr/p/manteau-en-fausse-fourrure-280235919A09.html', 'https://www.pimkie.fr/p/manteau-long-avec-laine-280246C25A05.html', 'https://www.pimkie.fr/p/doudoune-courte-280243485A04.html', 'https://www.pimkie.fr/p/doudoune-avec-fausse-fourrure-280216537A05.html', 'https://www.pimkie.fr/p/manteau-long-avec-laine-280246721A07.html', 'https://www.pimkie.fr/p/manteau-a-capuche-280245899A08.html', 'https://www.pimkie.fr/p/doudoune-legere-280241899A08.html', 'https://www.pimkie.fr/p/trench-suedine-280248C38A05.html', 'https://www.pimkie.fr/p/doudoune-legere-280204899A08.html', 'https://www.pimkie.fr/p/parka-impermeable-280244899A08.html', 'https://www.pimkie.fr/p/doudoune-a-capuche-280242899A08.html'], ['https://www.pimkie.fr/p/blouson-biker-simili-cuir-323304899A08.html', 'https://www.pimkie.fr/p/veste-biker-en-faux-cuir-323357899A08.html', 'https://www.pimkie.fr/p/manteau-court-en-fausse-fourrure-323346772A07.html', 'https://www.pimkie.fr/p/manteau-court-en-fausse-fourrure-323346899A08.html', 'https://www.pimkie.fr/p/veste-style-perfecto-doublee-323370721A07.html', 'https://www.pimkie.fr/p/veste-biker-en-simili-cuir-323304327A03.html', 'https://www.pimkie.fr/p/blazer-fin-323375899A08.html', 'https://www.pimkie.fr/p/veste-biker-metallisee-stephanie-durant-x-pimkie-323384G02A08.html', 'https://www.pimkie.fr/p/blouson-biker-simili-cuir-323304537A05.html', 'https://www.pimkie.fr/p/veste-style-perfecto-doublee-323370899A08.html', 'https://www.pimkie.fr/p/blazer-fin-323375777A07.html', 'https://www.pimkie.fr/p/blazer-fin-323375C38A05.html', 'https://www.pimkie.fr/p/blazer-en-velours-323377899A08.html', 'https://www.pimkie.fr/p/veste-en-jean-323316687A06.html', 'https://www.pimkie.fr/p/veste-en-jean-large-323360683A06.html', 'https://www.pimkie.fr/p/veste-imitation-mouton-323380906A09.html', 'https://www.pimkie.fr/p/veste-en-simili-cuir-323364899A08.html', 'https://www.pimkie.fr/p/veste-en-jean-doublee-323359683A06.html', 'https://www.pimkie.fr/p/veste-en-jean-fonce-323390696A06.html', 'https://www.pimkie.fr/p/veste-en-jean-fonce-323390899A08.html', 'https://www.pimkie.fr/p/veste-en-jean-courte-323392856A08.html', 'https://www.pimkie.fr/p/veste-en-jean-doublee-323383687A06.html', 'https://www.pimkie.fr/p/veste-en-jean-323316684A06.html', 'https://www.pimkie.fr/p/bomber-satine-323386899A08.html', 'https://www.pimkie.fr/p/veste-biker-323361899A08.html', 'https://www.pimkie.fr/p/blazer-a-carreaux-323352899B99.html', 'https://www.pimkie.fr/p/blazer-fin-323375342A03.html', 'https://www.pimkie.fr/p/veste-en-jean-doublee-323383680A06.html', 'https://www.pimkie.fr/p/veste-suedine-323387919A09.html', 'https://www.pimkie.fr/p/veste-suedine-323387899A08.html', 'https://www.pimkie.fr/p/bomber-satine-323386485A04.html', 'https://www.pimkie.fr/p/veste-bomber-en-fausse-fourrure-323362899A08.html', 'https://www.pimkie.fr/p/veste-en-fausse-fourrure-323367899A08.html', 'https://www.pimkie.fr/p/veste-en-jean-doublee-323383906A09.html', 'https://www.pimkie.fr/p/blazer-a-carreaux-323352818B39.html', 'https://www.pimkie.fr/p/veste-en-velours-cotele-323388D10A07.html', 'https://www.pimkie.fr/p/veste-courte-323391D10A07.html', 'https://www.pimkie.fr/p/veste-courte-323391899A08.html', 'https://www.pimkie.fr/p/veste-en-velours-cotele-323373635A06.html', 'https://www.pimkie.fr/p/veste-en-tweed-323371899A08.html', 'https://www.pimkie.fr/p/veste-biker-en-faux-cuir-323357342A03.html', 'https://www.pimkie.fr/p/veste-militaire-323349523A05.html'], ['https://www.pimkie.fr/p/pull-fluffy-407790899A0G.html', 'https://www.pimkie.fr/p/pull-a-torsades-407843912A09.html', 'https://www.pimkie.fr/p/pull-a-torsades-407843370A03.html', 'https://www.pimkie.fr/p/gilet-long-407957899A08.html', 'https://www.pimkie.fr/p/robe-cotelee-longue-781367D10A07.html', 'https://www.pimkie.fr/p/gilet-court-407842372A02.html', 'https://www.pimkie.fr/p/gilet-court-407842786A07.html', 'https://www.pimkie.fr/p/pull-fantaisie-407959451A04.html', 'https://www.pimkie.fr/p/robe-cotelee-longue-781367C52A05.html', 'https://www.pimkie.fr/p/gilet-long-407957830A08.html', 'https://www.pimkie.fr/p/pull-court-407878912A09.html', 'https://www.pimkie.fr/p/gilet-a-torsades-407841065A00.html', 'https://www.pimkie.fr/p/gilet-en-maille-fantaisie-407956635A06.html', 'https://www.pimkie.fr/p/gilet-a-torsades-407841912A09.html', 'https://www.pimkie.fr/p/pull-en-maille-cotelee-407846899A08.html', 'https://www.pimkie.fr/p/pull-a-rayures-407855912C0A.html', 'https://www.pimkie.fr/p/gilet-mi-long-407956C62A05.html', 'https://www.pimkie.fr/p/pull-point-fantaisie-407960068A00.html', 'https://www.pimkie.fr/p/pull-manches-bouffantes-407962912A09.html', 'https://www.pimkie.fr/p/pull-court-407878065A00.html', 'https://www.pimkie.fr/p/pull-fin-a-col-rond-407962B52A06.html', 'https://www.pimkie.fr/p/pull-fin-a-col-rond-407962C38A05.html', 'https://www.pimkie.fr/p/pull-fin-cotele-407958899A08.html', 'https://www.pimkie.fr/p/gilet-fantaisie-407970786A06.html', 'https://www.pimkie.fr/p/pull-large-a-col-v-407825537A05.html', 'https://www.pimkie.fr/p/pull-large-a-col-v-407825912E06.html', 'https://www.pimkie.fr/p/pull-fantaisie-407959B53A06.html', 'https://www.pimkie.fr/p/pull-torsade-a-manches-bouffantes-407961912A09.html', 'https://www.pimkie.fr/p/pull-raye-407865912C02.html', 'https://www.pimkie.fr/p/pull-court-407878899A08.html', 'https://www.pimkie.fr/p/pull-court-407878372A02.html', 'https://www.pimkie.fr/p/pull-a-torsades-407955451A04.html', 'https://www.pimkie.fr/p/pull-en-maille-epaisse-407853E17A0E.html', 'https://www.pimkie.fr/p/t-shirt-cotele-407958E17C09.html', 'https://www.pimkie.fr/p/pull-fantaisie-407959C62A05.html', 'https://www.pimkie.fr/p/gilet-court-407947830A08.html', 'https://www.pimkie.fr/p/pull-en-maille-fantaisie-407691899A08.html', 'https://www.pimkie.fr/p/pull-court-407729523A05.html', 'https://www.pimkie.fr/p/pull-large-a-col-v-407825410A04.html', 'https://www.pimkie.fr/p/pull-en-maille-fantaisie-407691523A05.html', 'https://www.pimkie.fr/p/pull-bicolore-407691912C08.html', 'https://www.pimkie.fr/p/pull-a-col-roule-407832786A06.html'], ['https://www.pimkie.fr/p/jean-skinny-high-waist-141037899A08.html', 'https://www.pimkie.fr/p/jean-mom-high-waist-141041683A06.html', 'https://www.pimkie.fr/p/jean-push-up-mid-waist-140791899A08.html', 'https://www.pimkie.fr/p/jean-skinny-high-waist-141037696A06.html', 'https://www.pimkie.fr/p/jean-skinny-taille-haute-140667683A06.html', 'https://www.pimkie.fr/p/jean-push-up-mid-waist-141029696A06.html', 'https://www.pimkie.fr/p/jean-push-up-mid-waist-140791882A08.html', 'https://www.pimkie.fr/p/jean-push-up-mid-waist-140791683A06.html', 'https://www.pimkie.fr/p/jegging-mid-waist-141028899A08.html', 'https://www.pimkie.fr/p/jean-push-up-mid-waist-141029683A06.html', 'https://www.pimkie.fr/p/jean-taille-haute-140576696A06.html', 'https://www.pimkie.fr/p/jean-skinny-mid-waist-141038899A08.html', 'https://www.pimkie.fr/p/jean-skinny-taille-haute-140667684A06.html', 'https://www.pimkie.fr/p/jean-mom-high-waist-141041696A06.html', 'https://www.pimkie.fr/p/jean-skinny-mid-waist-140721683A06.html', 'https://www.pimkie.fr/p/jean-skinny-high-waist-141042696A06.html', 'https://www.pimkie.fr/p/jean-skinny-mid-waist-140721684A06.html', 'https://www.pimkie.fr/p/jean-skinny-mid-waist-140722899A08.html', 'https://www.pimkie.fr/p/jegging-mid-waist-140802696A06.html', 'https://www.pimkie.fr/p/jean-skinny-140899899A08.html', 'https://www.pimkie.fr/p/jegging-mid-waist-140802683A06.html', 'https://www.pimkie.fr/p/jean-skinny-push-up-141056696A06.html', 'https://www.pimkie.fr/p/jean-skinny-mid-waist-140721696A06.html', 'https://www.pimkie.fr/p/jean-skinny-a-bandes-140984899A08.html', 'https://www.pimkie.fr/p/jean-skinny-push-up-141056882A08.html', 'https://www.pimkie.fr/p/jean-skinny-high-waist-delave-141040899A08.html', 'https://www.pimkie.fr/p/jean-skinny-high-waist-141037683A06.html', 'https://www.pimkie.fr/p/jean-skinny-biker-141043899A08.html', 'https://www.pimkie.fr/p/jean-skinny-mid-waist-141038684A06.html', 'https://www.pimkie.fr/p/jean-skinny-mid-waist-141060683A06.html', 'https://www.pimkie.fr/p/jean-bootcut-140807899A08.html', 'https://www.pimkie.fr/p/jean-taille-haute-140576816A08.html', 'https://www.pimkie.fr/p/jean-skinny-high-waist-140899682A06.html', 'https://www.pimkie.fr/p/jean-skinny-high-waist-140989882A08.html', 'https://www.pimkie.fr/p/jean-skinny-high-waist-delave-140990816A08.html', 'https://www.pimkie.fr/p/jean-skinny-high-waist-140989683A06.html', 'https://www.pimkie.fr/p/jean-skinny-high-waist-140989816A08.html', 'https://www.pimkie.fr/p/jean-skinny-high-waist-delave-140990B21A06.html', 'https://www.pimkie.fr/p/jean-skinny-mid-waist-140994683A06.html', 'https://www.pimkie.fr/p/jean-skinny-high-waist-140989696A06.html', 'https://www.pimkie.fr/p/jean-skinny-mid-waist-140994899A08.html', 'https://www.pimkie.fr/p/jean-skinny-high-waist-delave-140990683A06.html'], ['https://www.pimkie.fr/p/chemisier-brode-562006912A09.html', 'https://www.pimkie.fr/p/chemisier-brode-562006899A08.html', 'https://www.pimkie.fr/p/blouse-a-plumetis-561993912F09.html', 'https://www.pimkie.fr/p/chemisier-a-plumetis-562033899A08.html', 'https://www.pimkie.fr/p/chemisier-a-broderies-561985912F49.html', 'https://www.pimkie.fr/p/chemise-boutonnee-561986912C08.html', 'https://www.pimkie.fr/p/blouse-a-plumetis-561954899A08.html', 'https://www.pimkie.fr/p/blouse-a-plumetis-561993537F05.html', 'https://www.pimkie.fr/p/chemise-transparente-561970899A08.html', 'https://www.pimkie.fr/p/chemise-droite-561992D10A07.html', 'https://www.pimkie.fr/p/chemisier-transparent-stephanie-durant--x-pimkie-561991899A08.html', 'https://www.pimkie.fr/p/blouse-victorienne-561997912F49.html', 'https://www.pimkie.fr/p/chemise-carree-561988E20A0E.html', 'https://www.pimkie.fr/p/chemise-fluide-561990338A03.html', 'https://www.pimkie.fr/p/chemise-boutonnee-561987899A08.html', 'https://www.pimkie.fr/p/chemisier-a-broderies-561985D13F43.html', 'https://www.pimkie.fr/p/chemisier-a-fleurs-562010899E34.html', 'https://www.pimkie.fr/p/chemise-carree-561988C38A05.html', 'https://www.pimkie.fr/p/chemise-boutonnee-561987912A09.html', 'https://www.pimkie.fr/p/chemise-fluide-561990912A09.html', 'https://www.pimkie.fr/p/chemise-satinee-561989899G08.html', 'https://www.pimkie.fr/p/blouse-a-broderies-561949912A09.html', 'https://www.pimkie.fr/p/blouse-volantee-562004D13A07.html', 'https://www.pimkie.fr/p/chemise-fluide-561990899A08.html', 'https://www.pimkie.fr/p/blouse-a-pois-562030899E23.html', 'https://www.pimkie.fr/p/chemise-fluide-561896537A05.html', 'https://www.pimkie.fr/p/chemise-a-carreaux-561916318B08.html', 'https://www.pimkie.fr/p/blouse-a-fleurs-562030899D13.html', 'https://www.pimkie.fr/p/chemise-cintree-561883905A09.html', 'https://www.pimkie.fr/p/chemise-a-motifs-562011912A09.html', 'https://www.pimkie.fr/p/chemisier-fleuri-561972899E09.html', 'https://www.pimkie.fr/p/chemise-satinee-561989I29G02.html', 'https://www.pimkie.fr/p/blouse-volantee-562004068A00.html', 'https://www.pimkie.fr/p/chemise-carree-561988899A08.html', 'https://www.pimkie.fr/p/chemise-a-pois-562029899D19.html', 'https://www.pimkie.fr/p/blouse-en-plumetis-562003912A09.html', 'https://www.pimkie.fr/p/chemisier-a-broderies-561985068F40.html', 'https://www.pimkie.fr/p/chemisier-transparent-561981899A08.html', 'https://www.pimkie.fr/p/chemise-satinee-561989537G05.html', 'https://www.pimkie.fr/p/blouse-en-plumetis-562009373A03.html', 'https://www.pimkie.fr/p/chemisier-brode-562006537A05.html', 'https://www.pimkie.fr/p/top-paillete-issu-de-la-collab-stephanie-durant-x-pimkie-562017899C2A.html'], ['https://www.pimkie.fr/p/skinny-push-up-140337899A08.html', 'https://www.pimkie.fr/p/skinny-enduit-140928899A08.html', 'https://www.pimkie.fr/p/skinny-push-up-140337C43A05.html', 'https://www.pimkie.fr/p/pantalon-en-faux-cuir-141024899A08.html', 'https://www.pimkie.fr/p/skinny-push-up-140337747A07.html', 'https://www.pimkie.fr/p/pantalon-skinny-camouflage-140905506I07.html', 'https://www.pimkie.fr/p/pantalon-en-simili-cuir-140961899A08.html', 'https://www.pimkie.fr/p/skinny-push-up-142046903A09.html', 'https://www.pimkie.fr/p/pantalon-cargo-141030C38A05.html', 'https://www.pimkie.fr/p/skinny-push-up-140337D10A00.html', 'https://www.pimkie.fr/p/skinny-push-up-140337347A03.html', 'https://www.pimkie.fr/p/pantalon-skinny-imprime-140905899C09.html', 'https://www.pimkie.fr/p/pantalon-city-141049899B08.html', 'https://www.pimkie.fr/p/pantalon-cargo-141025D10A07.html', 'https://www.pimkie.fr/p/pantalon-cargo-skinny-140921777A07.html', 'https://www.pimkie.fr/p/pantalon-carotte-141044D10A07.html', 'https://www.pimkie.fr/p/pantalon-city-avec-ceinture-141039899A08.html', 'https://www.pimkie.fr/p/fuseau-taille-haute-140942899A08.html', 'https://www.pimkie.fr/p/skinny-push-up-140337506A05.html', 'https://www.pimkie.fr/p/pantalon-droit-a-poches-141026E13A0E.html', 'https://www.pimkie.fr/p/pantalon-skinny-a-poches-140921506A05.html', 'https://www.pimkie.fr/p/pantalon-velours-141053D13A03.html', 'https://www.pimkie.fr/p/skinny-enduit-142055899A08.html', 'https://www.pimkie.fr/p/pantalon-city-stephanie-durant-x-pimkie-141027899A08.html', 'https://www.pimkie.fr/p/pantalon-a-jambes-larges-141077899A08.html', 'https://www.pimkie.fr/p/pantalon-a-jambes-larges-140937899A08.html', 'https://www.pimkie.fr/p/pantalon-skinny-a-poches-140921900A09.html', 'https://www.pimkie.fr/p/pantalon-city-a-carreaux-140938899B07.html', 'https://www.pimkie.fr/p/pantalon-city-a-bandes-140939899A4E.html'], ['https://www.pimkie.fr/p/top-dentelle-561936899A08.html', 'https://www.pimkie.fr/p/t-shirt-a-patch-407928899F43.html', 'https://www.pimkie.fr/p/t-shirt-cotele-407660714A0E.html', 'https://www.pimkie.fr/p/t-shirt-cotele-407645899A08.html', 'https://www.pimkie.fr/p/t-shirt-cotele-407629899A08.html', 'https://www.pimkie.fr/p/top-dentelle-561936327A03.html', 'https://www.pimkie.fr/p/top-dentelle-561936537A05.html', 'https://www.pimkie.fr/p/t-shirt-en-dentelle-407858899A08.html', 'https://www.pimkie.fr/p/t-shirt-a-patch-407928905F43.html', 'https://www.pimkie.fr/p/top-a-dentelle-561984899F08.html', 'https://www.pimkie.fr/p/t-shirt-a-rayures-407930912C07.html', 'https://www.pimkie.fr/p/t-shirt-nasa-407983905N4A.html', 'https://www.pimkie.fr/p/debardeur-raye-561996899C2G.html', 'https://www.pimkie.fr/p/crop-top-a-manches-longues-407987635A06.html', 'https://www.pimkie.fr/p/t-shirt-cotele-407629900A09.html', 'https://www.pimkie.fr/p/crop-top-a-manches-longues-407987912A09.html', 'https://www.pimkie.fr/p/t-shirt-en-dentelle-407944899A09.html', 'https://www.pimkie.fr/p/t-shirt-a-message-407879338F49.html', 'https://www.pimkie.fr/p/debardeur-basique-403953899A08.html', 'https://www.pimkie.fr/p/top-en-dentelle-407856899A08.html', 'https://www.pimkie.fr/p/top-a-fines-bretelles-407907D10A07.html', 'https://www.pimkie.fr/p/top-a-dentelle-561984445F44.html', 'https://www.pimkie.fr/p/sous-pull-407685899A08.html', 'https://www.pimkie.fr/p/t-shirt-en-dentelle-408001912A09.html', 'https://www.pimkie.fr/p/t-shirt-a-message-407916905N4A.html', 'https://www.pimkie.fr/p/t-shirt-cotele-407645C38A05.html', 'https://www.pimkie.fr/p/t-shirt-cotele-407645747A07.html', 'https://www.pimkie.fr/p/top-a-dentelle-561984912F09.html', 'https://www.pimkie.fr/p/t-shirt-en-dentelle-407858537A05.html', 'https://www.pimkie.fr/p/debardeur-basique-403904900A09.html', 'https://www.pimkie.fr/p/t-shirt-a-message-407916C38N49.html', 'https://www.pimkie.fr/p/bandeau-uni-407880899A08.html', 'https://www.pimkie.fr/p/t-shirt-cotele-407645E20A0E.html', 'https://www.pimkie.fr/p/t-shirt-pink-floyd-407982857N4A.html', 'https://www.pimkie.fr/p/crop-top-a-manches-longues-407987C38A05.html', 'https://www.pimkie.fr/p/top-dentelle-407850899A08.html', 'https://www.pimkie.fr/p/top-a-dentelle-407854899A08.html', 'https://www.pimkie.fr/p/t-shirt-a-message-407916E20N49.html', 'https://www.pimkie.fr/p/t-shirt-a-manches-courtes-407859899A08.html', 'https://www.pimkie.fr/p/top-a-fines-bretelles-407907068A00.html', 'https://www.pimkie.fr/p/t-shirt-resille-a-fleurs-407992899E0A.html', 'https://www.pimkie.fr/p/t-shirt-a-fleurs-407998901E0A.html'], ['https://www.pimkie.fr/p/robe-pull-781287860A08.html', 'https://www.pimkie.fr/p/robe-pull-col-chale-781302E17A0E.html', 'https://www.pimkie.fr/p/robe-pull-longue-781301765A09.html', 'https://www.pimkie.fr/p/robe-pull-781287899A08.html', 'https://www.pimkie.fr/p/robe-pull-longue-781301817A08.html', 'https://www.pimkie.fr/p/robe-pull-781287777A07.html', 'https://www.pimkie.fr/p/robe-a-plumetis-781363899G08.html', 'https://www.pimkie.fr/p/robe-chemise-brodee-781357899A08.html', 'https://www.pimkie.fr/p/robe-pull-781302708A07.html', 'https://www.pimkie.fr/p/robe-cotelee-longue-781367C52A05.html', 'https://www.pimkie.fr/p/robe-longue-a-fleurs-781373899I08.html', 'https://www.pimkie.fr/p/robe-chemise-brodee-781357D13A07.html', 'https://www.pimkie.fr/p/robe-a-col-v-781369899A08.html', 'https://www.pimkie.fr/p/robe-longue-stephanie-durant-x-pimkie-781356899A08.html', 'https://www.pimkie.fr/p/robe-cotelee-longue-781367D10A07.html', 'https://www.pimkie.fr/p/robe-chemise-781365C52A05.html', 'https://www.pimkie.fr/p/robe-a-plumetis-781364899A08.html', 'https://www.pimkie.fr/p/robe-evasee-781375899A08.html', 'https://www.pimkie.fr/p/robe-pull-longue-781301369A03.html', 'https://www.pimkie.fr/p/robe-a-paillettes-781351G06G08.html', 'https://www.pimkie.fr/p/robe-pull-781302128A01.html', 'https://www.pimkie.fr/p/robe-longue-a-fleurs-781397899E0A.html', 'https://www.pimkie.fr/p/robe-en-velours-781346899A08.html', 'https://www.pimkie.fr/p/robe-a-col-v-781369C03A05.html', 'https://www.pimkie.fr/p/robe-portefeuille-781370523A05.html', 'https://www.pimkie.fr/p/robe-portefeuille-781370899A08.html', 'https://www.pimkie.fr/p/robe-a-paillettes-781336899M08.html', 'https://www.pimkie.fr/p/robe-asymetrique-paillettee-781361899A0G.html', 'https://www.pimkie.fr/p/robe-longue-a-fleurs-781390899I09.html', 'https://www.pimkie.fr/p/robe-a-paillettes-781371899I04.html', 'https://www.pimkie.fr/p/robe-a-perles-781359899A08.html', 'https://www.pimkie.fr/p/robe-satinee-781320747A07.html', 'https://www.pimkie.fr/p/robe-cotelee-781311372A03.html', 'https://www.pimkie.fr/p/robe-a-sequins-781347899A0G.html', 'https://www.pimkie.fr/p/robe-a-sequins-781349899G08.html', 'https://www.pimkie.fr/p/robe-a-sequins-781349898G0G.html', 'https://www.pimkie.fr/p/robe-a-paillettes-781351322G03.html', 'https://www.pimkie.fr/p/robe-pull-longue-781330899A08.html', 'https://www.pimkie.fr/p/robe-781319372A03.html', 'https://www.pimkie.fr/p/robe-chemise-781297899A08.html', 'https://www.pimkie.fr/p/robe-longue-fleurie-781325410E04.html', 'https://www.pimkie.fr/p/robe-a-fleurs-781319899A08.html'], ['https://www.pimkie.fr/p/jupe-en-simili-cuir-690608899A08.html', 'https://www.pimkie.fr/p/jupe-longue-a-fleurs-690659899I01.html', 'https://www.pimkie.fr/p/jupe-midi-en-simili-cuir-690603899A08.html', 'https://www.pimkie.fr/p/jupe-metallisee-stephanie-durant-x-pimkie-690654G02A08.html', 'https://www.pimkie.fr/p/jupe-a-fleurs-690661899E04.html', 'https://www.pimkie.fr/p/jupe-patineuse-691043899A08.html', 'https://www.pimkie.fr/p/jupe-avec-ceinture-a-clous-690660899A08.html', 'https://www.pimkie.fr/p/jupe-stephanie-durant-x-pimkie-690653418A02.html', 'https://www.pimkie.fr/p/jupe-en-faux-cuir-690606899A08.html', 'https://www.pimkie.fr/p/jupe-midi-690630899A08.html', 'https://www.pimkie.fr/p/jupe-midi-a-poches-690657C38A05.html', 'https://www.pimkie.fr/p/jupe-plissee-690573899A08.html', 'https://www.pimkie.fr/p/jupe-en-maille-cotelee-690649899A08.html', 'https://www.pimkie.fr/p/jupe-a-boutons-690658D10A07.html', 'https://www.pimkie.fr/p/jupe-short-a-carreaux-690663899B08.html', 'https://www.pimkie.fr/p/jupe-en-velours-690662D10A07.html', 'https://www.pimkie.fr/p/jupe-en-jean-690655899A08.html', 'https://www.pimkie.fr/p/jupe-effet-suedine-690647899A08.html', 'https://www.pimkie.fr/p/jupe-effet-suedine-690647747A01.html', 'https://www.pimkie.fr/p/jupe-en-jean-690655B35A06.html', 'https://www.pimkie.fr/p/jupe-midi-en-simili-cuir-690603736A07.html', 'https://www.pimkie.fr/p/jupe-midi-en-simili-cuir-690603361A03.html', 'https://www.pimkie.fr/p/jupe-en-velours-690662D13A03.html', 'https://www.pimkie.fr/p/jupe-en-jean-ceinturee-690628899A08.html', 'https://www.pimkie.fr/p/jupe-en-jean-effet-use-690652899A08.html', 'https://www.pimkie.fr/p/jupe-midi-a-fleurs-690678899E0A.html', 'https://www.pimkie.fr/p/jupe-en-simili-cuir-690608537A0C.html', 'https://www.pimkie.fr/p/jupe-en-faux-cuir-690606361A03.html', 'https://www.pimkie.fr/p/jupe-en-simil-cuir-zippee-690637899A08.html', 'https://www.pimkie.fr/p/jupe-en-faux-cuir-690606736A07.html', 'https://www.pimkie.fr/p/jupe-en-faux-cuir-690606338A03.html', 'https://www.pimkie.fr/p/jupe-longue-a-fleurs-690668899E0A.html', 'https://www.pimkie.fr/p/jupe-en-faux-cuir-690629327A03.html', 'https://www.pimkie.fr/p/jupe-en-faux-cuir-690606747A01.html', 'https://www.pimkie.fr/p/jupe-en-faux-cuir-690644899A08.html', 'https://www.pimkie.fr/p/jupe-en-jean-et-a-strass-690642888A08.html', 'https://www.pimkie.fr/p/jupe-plissee-690645899A0G.html', 'https://www.pimkie.fr/p/jupe-a-paillettes-690656899A0G.html', 'https://www.pimkie.fr/p/jupe-en-velours-690648899A08.html', 'https://www.pimkie.fr/p/jupe-midi-en-jean-690634696A06.html', 'https://www.pimkie.fr/p/jupe-ceinturee-690625899A08.html', 'https://www.pimkie.fr/p/jupe-longue-boutonnee-690611899E0A.html'], ['https://www.pimkie.fr/p/sweat-court-407840665A06.html', 'https://www.pimkie.fr/p/sweat-bangor-school-407807342N49.html', 'https://www.pimkie.fr/p/sweat-court-407840373A03.html', 'https://www.pimkie.fr/p/sweat-court-407840451A04.html', 'https://www.pimkie.fr/p/sweat-a-message-407799912A43.html', 'https://www.pimkie.fr/p/sweat-imprime-astro-407804850F08.html', 'https://www.pimkie.fr/p/sweat-oversized-407668777A07.html', 'https://www.pimkie.fr/p/sweat-imprime-407779912A09.html'], ['https://www.pimkie.fr/p/combi-pantalon-a-poches-141050D10A07.html'], ['https://www.pimkie.fr/p/body-a-sequins-407814801F0G.html', 'https://www.pimkie.fr/p/body-a-sequins-407813899A0G.html', 'https://www.pimkie.fr/p/body-chemisier-a-fleurs-561950899E06.html'], ['https://www.pimkie.fr/p/short-en-faux-cuir-141019899A08.html', 'https://www.pimkie.fr/p/short-avec-ceinture-141046899A08.html', 'https://www.pimkie.fr/p/short-city-140974899A08.html', 'https://www.pimkie.fr/p/short-a-paillettes-141021G04A0G.html', 'https://www.pimkie.fr/p/short-suedine-141018708A07.html', 'https://www.pimkie.fr/p/short-city-taille-haute-140914899A08.html', 'https://www.pimkie.fr/p/short-mom-140876816A08.html', 'https://www.pimkie.fr/p/short-fluide-a-taille-haute-140847065B08.html', 'https://www.pimkie.fr/p/short-suedine-141018747A01.html', 'https://www.pimkie.fr/p/short-fluide-141048899A08.html', 'https://www.pimkie.fr/p/short-en-jean-140836899A08.html', 'https://www.pimkie.fr/p/short-city-140925899A08.html', 'https://www.pimkie.fr/p/short-suedine-141018899A08.html', 'https://www.pimkie.fr/p/short-en-jean-140836683A06.html']]\n"
     ]
    }
   ],
   "source": [
    "# Vérification des résultats\n",
    "print(sous_cat)\n",
    "print(\"##################################\")\n",
    "print(sous_cat_url)"
   ]
  },
  {
   "cell_type": "markdown",
   "metadata": {},
   "source": [
    "Résultats à vérifier !\n",
    "A faire : Ajouter les prix et couleur pour chaque produit et mettre les résultats dans un dataframe"
   ]
  },
  {
   "cell_type": "code",
   "execution_count": null,
   "metadata": {},
   "outputs": [],
   "source": []
  }
 ],
 "metadata": {
  "kernelspec": {
   "display_name": "Python 3",
   "language": "python",
   "name": "python3"
  },
  "language_info": {
   "codemirror_mode": {
    "name": "ipython",
    "version": 3
   },
   "file_extension": ".py",
   "mimetype": "text/x-python",
   "name": "python",
   "nbconvert_exporter": "python",
   "pygments_lexer": "ipython3",
   "version": "3.7.3"
  }
 },
 "nbformat": 4,
 "nbformat_minor": 2
}
